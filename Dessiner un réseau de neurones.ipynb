{
 "cells": [
  {
   "cell_type": "markdown",
   "metadata": {},
   "source": [
    "# Dessiner un réseau de neurones automatiquement\n",
    "Cette fonction génère le code $\\LaTeX$ nécessaire au tracé d'un réseau de neurones.\n",
    "\n",
    "<img width=\"500px\" src=\"NN.png\"/>"
   ]
  },
  {
   "cell_type": "code",
   "execution_count": 1,
   "metadata": {
    "collapsed": false
   },
   "outputs": [],
   "source": [
    "def get_legende(nb_hidden_layers):\n",
    "    code =  r\"\"\"\n",
    "\\node[annot, above of=A-0, node distance=1cm] (hl1) {Hidden layer 1};\n",
    "\\node[annot, left of=hl1] {Feature layer};\n",
    "\"\"\"\n",
    "    for i in range(1, nb_hidden_layers):\n",
    "        code += r\"\\node[annot, right of=hl{0}] (hl{1}) {{Hidden layer {1}}};\".format(i, i+1) + '\\n'\n",
    "    code += r\"\\node[annot, right of=hl{}] {{Output layer}};\".format(nb_hidden_layers) \n",
    "    code += \"\\n\\end{tikzpicture}\\n\\end{document}\"\n",
    "    return code"
   ]
  },
  {
   "cell_type": "code",
   "execution_count": 2,
   "metadata": {
    "collapsed": false
   },
   "outputs": [],
   "source": [
    "def get_hidden_layer(hidden_layers, y_shift):\n",
    "    code = r\"\"\"\\foreach \\name / \\y in {{{0},...,{1}}}\n",
    "        \\path[yshift={2}cm]\n",
    "            node[hidden neuron] (A-\\name) at (\\layersep,-\\y cm) {{}};\n",
    "\"\"\".format(0, hidden_layers[0]-1, y_shift)\n",
    "    \n",
    "    lettre = ['B','C','D','E']\n",
    "    for i in range(1, len(hidden_layers)):\n",
    "        code += r\"\"\"\n",
    "\\foreach \\name / \\y in {{{0},...,{1}}}\n",
    "        \\path[yshift={2}cm]\n",
    "            node[hidden neuron] ({3}-\\name) at ({4}*\\layersep,-\\y cm) {{}};\n",
    "        \"\"\".format(0, hidden_layers[0]-1, y_shift, lettre[i-1], i+1) + '\\n'\n",
    "        \n",
    "    return code"
   ]
  },
  {
   "cell_type": "code",
   "execution_count": 3,
   "metadata": {
    "collapsed": false
   },
   "outputs": [],
   "source": [
    "def get_output(hidden_layers, output_node, debut_feature, fin_feature):\n",
    "    lettre = ['A','B','C','D','E']   \n",
    "    code = r\"\"\"\\node[output neuron, pin={{[pin edge={{->}}]right:Output}}] (O) at ({1}, -{0}) {{}};\n",
    "\"\"\".format(output_node, '\\layersep+'*(len(hidden_layers))+'\\layersep')\n",
    "    \n",
    "    code += r\"\"\"\n",
    "% Connect every node in the input layer with every node in the hidden layer.\n",
    "    \\foreach \\source in {{{0},...,{1}}}\n",
    "    \\foreach \\dest in {{0,...,{2}}}\n",
    "        \\path (I-\\source) edge (A-\\dest);\n",
    "    \"\"\".format(debut_feature, fin_feature, hidden_layers[0]-1 )\n",
    "    \n",
    "    for i in range(1, len(hidden_layers)):\n",
    "        code += r\"\"\"\n",
    "% Connection de la hidden layer {0} à la hidden layer {1} :\n",
    "        \\foreach \\source in {{{4},...,{5}}}\n",
    "        \\foreach \\dest in {{{4},...,{5}}}\n",
    "            \\path ({2}-\\source) edge ({3}-\\dest);\n",
    "        \"\"\".format(i, i+1, lettre[i-1], lettre[i], 0, hidden_layers[0]-1 )\n",
    "    \n",
    "    code += r\"\"\"\n",
    "% Connect every node in the hidden layer with the output layer\n",
    "    \\foreach \\source in {{0,...,{}}}\n",
    "        \\path ({}-\\source) edge (O);\"\"\".format(hidden_layers[0]-1, lettre[len(hidden_layers)-1])\n",
    "    return code"
   ]
  },
  {
   "cell_type": "code",
   "execution_count": 4,
   "metadata": {
    "collapsed": true
   },
   "outputs": [],
   "source": [
    "def get_yshift_outputmode(nb_hidden_units, nb_features, hidden_layers):\n",
    "    debut_feature = int((hidden_layers[0] - nb_features ) / 2)\n",
    "    fin_feature = debut_feature + nb_features - 1\n",
    "    output_node = (debut_feature+fin_feature) / 2\n",
    "    y_shift = 0\n",
    "    if (nb_hidden_units%2 + nb_features%2 == 1) :\n",
    "        y_shift = 0.5\n",
    "    return y_shift, output_node"
   ]
  },
  {
   "cell_type": "code",
   "execution_count": 5,
   "metadata": {
    "collapsed": false
   },
   "outputs": [],
   "source": [
    "def trace_neural_network(nb_features, hidden_layers):\n",
    "    \"\"\"\n",
    "    hidden_layers : une liste où hidden_layers[i] est le nombre de hidden units dans la layer i\n",
    "    \"\"\"\n",
    "    \n",
    "    debut_feature = int((hidden_layers[0] - nb_features ) / 2)\n",
    "    fin_feature = debut_feature + nb_features - 1\n",
    "    \n",
    "    y_shift, output_node = get_yshift_outputmode(hidden_layers[0], nb_features, hidden_layers)\n",
    "    nb_hidden_layers=len(hidden_layers)\n",
    "    code_LaTeX = r\"\"\"\n",
    "\\documentclass{{article}}\n",
    "\n",
    "\\usepackage{{tikz}}\n",
    "\\begin{{document}}\n",
    "\\pagestyle{{empty}}\n",
    "\n",
    "\\def\\layersep{{2.5cm}}\n",
    "\n",
    "\\begin{{tikzpicture}}[shorten >=1pt,->,draw=black!50, node distance=\\layersep]\n",
    "    \\tikzstyle{{every pin edge}}=[<-,shorten <=1pt]\n",
    "    \\tikzstyle{{neuron}}=[circle,fill=black!25,minimum size=17pt,inner sep=0pt]\n",
    "    \\tikzstyle{{input neuron}}=[neuron, fill=blue!50];\n",
    "    \\tikzstyle{{output neuron}}=[neuron, fill=purple!50];\n",
    "    \\tikzstyle{{hidden neuron}}=[neuron, fill=pink];\n",
    "    \\tikzstyle{{annot}} = [text width=4em, text centered]\n",
    "\n",
    "% Draw the input layer nodes\n",
    "\\foreach \\name / \\y in {{{0},...,{1}}}\n",
    "% This is the same as writing \\foreach \\name / \\y in {{1/1,2/2,3/3,4/4}}\n",
    "    \\node[input neuron, pin=left:Feature \\#\\y] (I-\\name) at (0,-\\y) {{}};\n",
    "\n",
    "% Draw the hidden layer nodes\n",
    "{2}\n",
    "\n",
    "% Draw the output layer node\n",
    "{3}\n",
    "\n",
    "% Annotate the layers\n",
    "{4}\n",
    "    \"\"\".format(debut_feature,\n",
    "               fin_feature, \n",
    "               get_hidden_layer(hidden_layers, y_shift),\n",
    "               get_output(hidden_layers, output_node, debut_feature, fin_feature), get_legende(len(hidden_layers))) \n",
    "    return print(code_LaTeX)"
   ]
  },
  {
   "cell_type": "code",
   "execution_count": 6,
   "metadata": {
    "collapsed": false,
    "scrolled": false
   },
   "outputs": [
    {
     "name": "stdout",
     "output_type": "stream",
     "text": [
      "\n",
      "\\documentclass{article}\n",
      "\n",
      "\\usepackage{tikz}\n",
      "\\begin{document}\n",
      "\\pagestyle{empty}\n",
      "\n",
      "\\def\\layersep{2.5cm}\n",
      "\n",
      "\\begin{tikzpicture}[shorten >=1pt,->,draw=black!50, node distance=\\layersep]\n",
      "    \\tikzstyle{every pin edge}=[<-,shorten <=1pt]\n",
      "    \\tikzstyle{neuron}=[circle,fill=black!25,minimum size=17pt,inner sep=0pt]\n",
      "    \\tikzstyle{input neuron}=[neuron, fill=blue!50];\n",
      "    \\tikzstyle{output neuron}=[neuron, fill=purple!50];\n",
      "    \\tikzstyle{hidden neuron}=[neuron, fill=pink];\n",
      "    \\tikzstyle{annot} = [text width=4em, text centered]\n",
      "\n",
      "% Draw the input layer nodes\n",
      "\\foreach \\name / \\y in {1,...,4}\n",
      "% This is the same as writing \\foreach \\name / \\y in {1/1,2/2,3/3,4/4}\n",
      "    \\node[input neuron, pin=left:Feature \\#\\y] (I-\\name) at (0,-\\y) {};\n",
      "\n",
      "% Draw the hidden layer nodes\n",
      "\\foreach \\name / \\y in {0,...,5}\n",
      "        \\path[yshift=0cm]\n",
      "            node[hidden neuron] (A-\\name) at (\\layersep,-\\y cm) {};\n",
      "\n",
      "\\foreach \\name / \\y in {0,...,5}\n",
      "        \\path[yshift=0cm]\n",
      "            node[hidden neuron] (B-\\name) at (2*\\layersep,-\\y cm) {};\n",
      "        \n",
      "\n",
      "\n",
      "% Draw the output layer node\n",
      "\\node[output neuron, pin={[pin edge={->}]right:Output}] (O) at (\\layersep+\\layersep+\\layersep, -2.5) {};\n",
      "\n",
      "% Connect every node in the input layer with every node in the hidden layer.\n",
      "    \\foreach \\source in {1,...,4}\n",
      "    \\foreach \\dest in {0,...,5}\n",
      "        \\path (I-\\source) edge (A-\\dest);\n",
      "    \n",
      "% Connection de la hidden layer 1 à la hidden layer 2 :\n",
      "        \\foreach \\source in {0,...,5}\n",
      "        \\foreach \\dest in {0,...,5}\n",
      "            \\path (A-\\source) edge (B-\\dest);\n",
      "        \n",
      "% Connect every node in the hidden layer with the output layer\n",
      "    \\foreach \\source in {0,...,5}\n",
      "        \\path (B-\\source) edge (O);\n",
      "\n",
      "% Annotate the layers\n",
      "\n",
      "\\node[annot, above of=A-0, node distance=1cm] (hl1) {Hidden layer 1};\n",
      "\\node[annot, left of=hl1] {Feature layer};\n",
      "\\node[annot, right of=hl1] (hl2) {Hidden layer 2};\n",
      "\\node[annot, right of=hl2] {Output layer};\n",
      "\\end{tikzpicture}\n",
      "\\end{document}\n",
      "    \n"
     ]
    }
   ],
   "source": [
    "trace_neural_network(nb_features=4, hidden_layers=[6,6])"
   ]
  }
 ],
 "metadata": {
  "anaconda-cloud": {},
  "kernelspec": {
   "display_name": "Python [conda root]",
   "language": "python",
   "name": "conda-root-py"
  },
  "language_info": {
   "codemirror_mode": {
    "name": "ipython",
    "version": 3
   },
   "file_extension": ".py",
   "mimetype": "text/x-python",
   "name": "python",
   "nbconvert_exporter": "python",
   "pygments_lexer": "ipython3",
   "version": "3.5.2"
  }
 },
 "nbformat": 4,
 "nbformat_minor": 1
}
