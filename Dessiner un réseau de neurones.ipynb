{
 "cells": [
  {
   "cell_type": "markdown",
   "metadata": {},
   "source": [
    "# Dessiner un réseau de neurones automatiquement\n",
    "Cette fonction génère le code $\\LaTeX$ nécessaire au tracé d'un réseau de neurones.\n",
    "\n",
    "<img width=\"500px\" src=\"NN.png\"/>"
   ]
  },
  {
   "cell_type": "code",
   "execution_count": 177,
   "metadata": {
    "collapsed": false
   },
   "outputs": [],
   "source": [
    "def trace_neural_network(nb_features, nb_hidden_units):\n",
    "\n",
    "    debut_feature = int((nb_hidden_units - nb_features ) / 2)\n",
    "    fin_feature = debut_feature + nb_features - 1\n",
    "    \n",
    "    if (nb_hidden_units%2 == 1) and (nb_features%2 == 1) :\n",
    "        y_shift = 0\n",
    "        output_node = (debut_feature+fin_feature) / 2\n",
    "        \n",
    "    if (nb_hidden_units%2 == 0) and (nb_features%2 == 1) :\n",
    "        y_shift = 0.5\n",
    "        output_node = (debut_feature+fin_feature) / 2\n",
    "\n",
    "    if (nb_hidden_units%2 == 1) and (nb_features%2 == 0) :\n",
    "        y_shift = 0.5\n",
    "        output_node = (debut_feature+fin_feature) / 2\n",
    "\n",
    "    if (nb_hidden_units%2 == 0) and (nb_features%2 == 0) :\n",
    "        y_shift = 0\n",
    "        output_node = (debut_feature+fin_feature) / 2\n",
    "        \n",
    "    code_LaTeX = r\"\"\"\n",
    "\\documentclass{{article}}\n",
    "\n",
    "\\usepackage{{tikz}}\n",
    "\\begin{{document}}\n",
    "\\pagestyle{{empty}}\n",
    "\n",
    "\\def\\layersep{{2.5cm}}\n",
    "\n",
    "\\begin{{tikzpicture}}[shorten >=1pt,->,draw=black!50, node distance=\\layersep]\n",
    "    \\tikzstyle{{every pin edge}}=[<-,shorten <=1pt]\n",
    "    \\tikzstyle{{neuron}}=[circle,fill=black!25,minimum size=17pt,inner sep=0pt]\n",
    "    \\tikzstyle{{input neuron}}=[neuron, fill=blue!50];\n",
    "    \\tikzstyle{{output neuron}}=[neuron, fill=purple!50];\n",
    "    \\tikzstyle{{hidden neuron}}=[neuron, fill=pink];\n",
    "    \\tikzstyle{{annot}} = [text width=4em, text centered]\n",
    "\n",
    "    % Draw the input layer nodes\n",
    "    \\foreach \\name / \\y in {{{2},...,{3}}}\n",
    "    % This is the same as writing \\foreach \\name / \\y in {{1/1,2/2,3/3,4/4}}\n",
    "        \\node[input neuron, pin=left:Feature \\#\\y] (I-\\name) at (0,-\\y) {{}};\n",
    "\n",
    "    % Draw the hidden layer nodes\n",
    "    \\foreach \\name / \\y in {{{0},...,{1}}}\n",
    "        \\path[yshift={6}cm]\n",
    "            node[hidden neuron] (H-\\name) at (\\layersep,-\\y cm) {{}};\n",
    "\n",
    "    % Draw the output layer node\n",
    "    \\node[output neuron, pin={{[pin edge={{->}}]right:Output}}] (O) at (\\layersep+\\layersep, -{7}) {{}};\n",
    "    %\\node[output neuron,pin={{[pin edge={{->}}]right:Output}}, right of=H-{4}] (O) {{}};\n",
    "\n",
    "    % Connect every node in the input layer with every node in the\n",
    "    % hidden layer.\n",
    "    \\foreach \\source in {{{2},...,{3}}}\n",
    "        \\foreach \\dest in {{{0},...,{1}}}\n",
    "            \\path (I-\\source) edge (H-\\dest);\n",
    "\n",
    "    % Connect every node in the hidden layer with the output layer\n",
    "    \\foreach \\source in {{{0},...,{1}}}\n",
    "        \\path (H-\\source) edge (O);\n",
    "\n",
    "    % Annotate the layers\n",
    "    \\node[annot, above of=H-0, node distance=1cm] (hl) {{Hidden layer}};\n",
    "    \\node[annot, left of=hl] {{Feature layer}};\n",
    "    \\node[annot, right of=hl] {{Output layer}};\n",
    "\\end{{tikzpicture}}\n",
    "\\end{{document}}\n",
    "    \"\"\".format(0,\n",
    "               nb_hidden_units-1,\n",
    "               debut_feature,\n",
    "               fin_feature, \n",
    "               output_node,\n",
    "               debut_feature-1,\n",
    "               y_shift,\n",
    "               output_node)  \n",
    "    return print(code_LaTeX)"
   ]
  },
  {
   "cell_type": "code",
   "execution_count": 178,
   "metadata": {
    "collapsed": false,
    "scrolled": false
   },
   "outputs": [
    {
     "name": "stdout",
     "output_type": "stream",
     "text": [
      "\n",
      "\\documentclass{article}\n",
      "\n",
      "\\usepackage{tikz}\n",
      "\\begin{document}\n",
      "\\pagestyle{empty}\n",
      "\n",
      "\\def\\layersep{2.5cm}\n",
      "\n",
      "\\begin{tikzpicture}[shorten >=1pt,->,draw=black!50, node distance=\\layersep]\n",
      "    \\tikzstyle{every pin edge}=[<-,shorten <=1pt]\n",
      "    \\tikzstyle{neuron}=[circle,fill=black!25,minimum size=17pt,inner sep=0pt]\n",
      "    \\tikzstyle{input neuron}=[neuron, fill=blue!50];\n",
      "    \\tikzstyle{output neuron}=[neuron, fill=purple!50];\n",
      "    \\tikzstyle{hidden neuron}=[neuron, fill=pink];\n",
      "    \\tikzstyle{annot} = [text width=4em, text centered]\n",
      "\n",
      "    % Draw the input layer nodes\n",
      "    \\foreach \\name / \\y in {2,...,6}\n",
      "    % This is the same as writing \\foreach \\name / \\y in {1/1,2/2,3/3,4/4}\n",
      "        \\node[input neuron, pin=left:Feature \\#\\y] (I-\\name) at (0,-\\y) {};\n",
      "\n",
      "    % Draw the hidden layer nodes\n",
      "    \\foreach \\name / \\y in {0,...,8}\n",
      "        \\path[yshift=0cm]\n",
      "            node[hidden neuron] (H-\\name) at (\\layersep,-\\y cm) {};\n",
      "\n",
      "    % Draw the output layer node\n",
      "    \\node[output neuron, pin={[pin edge={->}]right:Output}] (O) at (\\layersep+\\layersep, -4.0) {};\n",
      "    %\\node[output neuron,pin={[pin edge={->}]right:Output}, right of=H-4.0] (O) {};\n",
      "\n",
      "    % Connect every node in the input layer with every node in the\n",
      "    % hidden layer.\n",
      "    \\foreach \\source in {2,...,6}\n",
      "        \\foreach \\dest in {0,...,8}\n",
      "            \\path (I-\\source) edge (H-\\dest);\n",
      "\n",
      "    % Connect every node in the hidden layer with the output layer\n",
      "    \\foreach \\source in {0,...,8}\n",
      "        \\path (H-\\source) edge (O);\n",
      "\n",
      "    % Annotate the layers\n",
      "    \\node[annot, above of=H-0, node distance=1cm] (hl) {Hidden layer};\n",
      "    \\node[annot, left of=hl] {Feature layer};\n",
      "    \\node[annot, right of=hl] {Output layer};\n",
      "\\end{tikzpicture}\n",
      "\\end{document}\n",
      "    \n"
     ]
    }
   ],
   "source": [
    "trace_neural_network(5,9)"
   ]
  },
  {
   "cell_type": "code",
   "execution_count": null,
   "metadata": {
    "collapsed": true
   },
   "outputs": [],
   "source": []
  }
 ],
 "metadata": {
  "anaconda-cloud": {},
  "kernelspec": {
   "display_name": "Python [conda root]",
   "language": "python",
   "name": "conda-root-py"
  },
  "language_info": {
   "codemirror_mode": {
    "name": "ipython",
    "version": 3
   },
   "file_extension": ".py",
   "mimetype": "text/x-python",
   "name": "python",
   "nbconvert_exporter": "python",
   "pygments_lexer": "ipython3",
   "version": "3.5.2"
  }
 },
 "nbformat": 4,
 "nbformat_minor": 1
}
